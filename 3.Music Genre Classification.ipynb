{
 "cells": [
  {
   "cell_type": "markdown",
   "metadata": {},
   "source": [
    "# Music Genre Classification :"
   ]
  },
  {
   "cell_type": "markdown",
   "metadata": {},
   "source": [
    "## Importing Libraries :"
   ]
  },
  {
   "cell_type": "code",
   "execution_count": 1,
   "metadata": {},
   "outputs": [
    {
     "name": "stderr",
     "output_type": "stream",
     "text": [
      "Using TensorFlow backend.\n"
     ]
    }
   ],
   "source": [
    "# for feature extractoring and preprocessing data\n",
    "import librosa\n",
    "import pandas as pd\n",
    "import numpy as np\n",
    "import matplotlib.pyplot as plt\n",
    "%matplotlib inline\n",
    "import os\n",
    "from PIL import Image\n",
    "import pathlib\n",
    "import csv\n",
    "\n",
    "# for Preprocessing\n",
    "from sklearn.model_selection import train_test_split\n",
    "from sklearn.preprocessing import LabelEncoder, StandardScaler\n",
    "from sklearn.metrics import mean_squared_error as mse\n",
    "\n",
    "# for Keras\n",
    "import keras\n",
    "from keras.callbacks import ModelCheckpoint\n",
    "\n",
    "import warnings\n",
    "warnings.filterwarnings('ignore')"
   ]
  },
  {
   "cell_type": "markdown",
   "metadata": {},
   "source": [
    "## Analysing the Data in Pandas :"
   ]
  },
  {
   "cell_type": "code",
   "execution_count": 2,
   "metadata": {},
   "outputs": [
    {
     "data": {
      "text/html": [
       "<div>\n",
       "<style scoped>\n",
       "    .dataframe tbody tr th:only-of-type {\n",
       "        vertical-align: middle;\n",
       "    }\n",
       "\n",
       "    .dataframe tbody tr th {\n",
       "        vertical-align: top;\n",
       "    }\n",
       "\n",
       "    .dataframe thead th {\n",
       "        text-align: right;\n",
       "    }\n",
       "</style>\n",
       "<table border=\"1\" class=\"dataframe\">\n",
       "  <thead>\n",
       "    <tr style=\"text-align: right;\">\n",
       "      <th></th>\n",
       "      <th>filename</th>\n",
       "      <th>chroma_stft</th>\n",
       "      <th>rmse</th>\n",
       "      <th>spectral_centroid</th>\n",
       "      <th>spectral_bandwidth</th>\n",
       "      <th>rolloff</th>\n",
       "      <th>zero_crossing_rate</th>\n",
       "      <th>mfcc1</th>\n",
       "      <th>mfcc2</th>\n",
       "      <th>mfcc3</th>\n",
       "      <th>...</th>\n",
       "      <th>mfcc12</th>\n",
       "      <th>mfcc13</th>\n",
       "      <th>mfcc14</th>\n",
       "      <th>mfcc15</th>\n",
       "      <th>mfcc16</th>\n",
       "      <th>mfcc17</th>\n",
       "      <th>mfcc18</th>\n",
       "      <th>mfcc19</th>\n",
       "      <th>mfcc20</th>\n",
       "      <th>label</th>\n",
       "    </tr>\n",
       "  </thead>\n",
       "  <tbody>\n",
       "    <tr>\n",
       "      <th>0</th>\n",
       "      <td>blues.00000.au</td>\n",
       "      <td>0.349943</td>\n",
       "      <td>0.130225</td>\n",
       "      <td>1784.420446</td>\n",
       "      <td>2002.650192</td>\n",
       "      <td>3806.485316</td>\n",
       "      <td>0.083066</td>\n",
       "      <td>-113.596748</td>\n",
       "      <td>121.557297</td>\n",
       "      <td>-19.158825</td>\n",
       "      <td>...</td>\n",
       "      <td>8.810669</td>\n",
       "      <td>-3.667369</td>\n",
       "      <td>5.751690</td>\n",
       "      <td>-5.162763</td>\n",
       "      <td>0.750948</td>\n",
       "      <td>-1.691938</td>\n",
       "      <td>-0.409953</td>\n",
       "      <td>-2.300209</td>\n",
       "      <td>1.219929</td>\n",
       "      <td>blues</td>\n",
       "    </tr>\n",
       "    <tr>\n",
       "      <th>1</th>\n",
       "      <td>blues.00001.au</td>\n",
       "      <td>0.340983</td>\n",
       "      <td>0.095918</td>\n",
       "      <td>1529.835316</td>\n",
       "      <td>2038.617579</td>\n",
       "      <td>3548.820207</td>\n",
       "      <td>0.056044</td>\n",
       "      <td>-207.556793</td>\n",
       "      <td>124.006721</td>\n",
       "      <td>8.930560</td>\n",
       "      <td>...</td>\n",
       "      <td>5.376803</td>\n",
       "      <td>-2.239120</td>\n",
       "      <td>4.216963</td>\n",
       "      <td>-6.012273</td>\n",
       "      <td>0.936110</td>\n",
       "      <td>-0.716537</td>\n",
       "      <td>0.293876</td>\n",
       "      <td>-0.287431</td>\n",
       "      <td>0.531574</td>\n",
       "      <td>blues</td>\n",
       "    </tr>\n",
       "    <tr>\n",
       "      <th>2</th>\n",
       "      <td>blues.00002.au</td>\n",
       "      <td>0.363603</td>\n",
       "      <td>0.175573</td>\n",
       "      <td>1552.481958</td>\n",
       "      <td>1747.165985</td>\n",
       "      <td>3040.514948</td>\n",
       "      <td>0.076301</td>\n",
       "      <td>-90.754387</td>\n",
       "      <td>140.459915</td>\n",
       "      <td>-29.109968</td>\n",
       "      <td>...</td>\n",
       "      <td>5.789265</td>\n",
       "      <td>-8.905224</td>\n",
       "      <td>-1.083720</td>\n",
       "      <td>-9.218360</td>\n",
       "      <td>2.455806</td>\n",
       "      <td>-7.726901</td>\n",
       "      <td>-1.815723</td>\n",
       "      <td>-3.433434</td>\n",
       "      <td>-2.226821</td>\n",
       "      <td>blues</td>\n",
       "    </tr>\n",
       "    <tr>\n",
       "      <th>3</th>\n",
       "      <td>blues.00003.au</td>\n",
       "      <td>0.404779</td>\n",
       "      <td>0.141191</td>\n",
       "      <td>1070.119953</td>\n",
       "      <td>1596.333948</td>\n",
       "      <td>2185.028454</td>\n",
       "      <td>0.033309</td>\n",
       "      <td>-199.431152</td>\n",
       "      <td>150.099213</td>\n",
       "      <td>5.647593</td>\n",
       "      <td>...</td>\n",
       "      <td>6.087676</td>\n",
       "      <td>-2.476421</td>\n",
       "      <td>-1.073890</td>\n",
       "      <td>-2.874778</td>\n",
       "      <td>0.780977</td>\n",
       "      <td>-3.316932</td>\n",
       "      <td>0.637981</td>\n",
       "      <td>-0.619690</td>\n",
       "      <td>-3.408233</td>\n",
       "      <td>blues</td>\n",
       "    </tr>\n",
       "    <tr>\n",
       "      <th>4</th>\n",
       "      <td>blues.00004.au</td>\n",
       "      <td>0.308590</td>\n",
       "      <td>0.091563</td>\n",
       "      <td>1835.494603</td>\n",
       "      <td>1748.362448</td>\n",
       "      <td>3580.945013</td>\n",
       "      <td>0.101500</td>\n",
       "      <td>-160.266037</td>\n",
       "      <td>126.198807</td>\n",
       "      <td>-35.605450</td>\n",
       "      <td>...</td>\n",
       "      <td>-2.806384</td>\n",
       "      <td>-6.934123</td>\n",
       "      <td>-7.558618</td>\n",
       "      <td>-9.173553</td>\n",
       "      <td>-4.512165</td>\n",
       "      <td>-5.453538</td>\n",
       "      <td>-0.924161</td>\n",
       "      <td>-4.409333</td>\n",
       "      <td>-11.703780</td>\n",
       "      <td>blues</td>\n",
       "    </tr>\n",
       "  </tbody>\n",
       "</table>\n",
       "<p>5 rows × 28 columns</p>\n",
       "</div>"
      ],
      "text/plain": [
       "         filename  chroma_stft      rmse  spectral_centroid  \\\n",
       "0  blues.00000.au     0.349943  0.130225        1784.420446   \n",
       "1  blues.00001.au     0.340983  0.095918        1529.835316   \n",
       "2  blues.00002.au     0.363603  0.175573        1552.481958   \n",
       "3  blues.00003.au     0.404779  0.141191        1070.119953   \n",
       "4  blues.00004.au     0.308590  0.091563        1835.494603   \n",
       "\n",
       "   spectral_bandwidth      rolloff  zero_crossing_rate       mfcc1  \\\n",
       "0         2002.650192  3806.485316            0.083066 -113.596748   \n",
       "1         2038.617579  3548.820207            0.056044 -207.556793   \n",
       "2         1747.165985  3040.514948            0.076301  -90.754387   \n",
       "3         1596.333948  2185.028454            0.033309 -199.431152   \n",
       "4         1748.362448  3580.945013            0.101500 -160.266037   \n",
       "\n",
       "        mfcc2      mfcc3  ...    mfcc12    mfcc13    mfcc14    mfcc15  \\\n",
       "0  121.557297 -19.158825  ...  8.810669 -3.667369  5.751690 -5.162763   \n",
       "1  124.006721   8.930560  ...  5.376803 -2.239120  4.216963 -6.012273   \n",
       "2  140.459915 -29.109968  ...  5.789265 -8.905224 -1.083720 -9.218360   \n",
       "3  150.099213   5.647593  ...  6.087676 -2.476421 -1.073890 -2.874778   \n",
       "4  126.198807 -35.605450  ... -2.806384 -6.934123 -7.558618 -9.173553   \n",
       "\n",
       "     mfcc16    mfcc17    mfcc18    mfcc19     mfcc20  label  \n",
       "0  0.750948 -1.691938 -0.409953 -2.300209   1.219929  blues  \n",
       "1  0.936110 -0.716537  0.293876 -0.287431   0.531574  blues  \n",
       "2  2.455806 -7.726901 -1.815723 -3.433434  -2.226821  blues  \n",
       "3  0.780977 -3.316932  0.637981 -0.619690  -3.408233  blues  \n",
       "4 -4.512165 -5.453538 -0.924161 -4.409333 -11.703780  blues  \n",
       "\n",
       "[5 rows x 28 columns]"
      ]
     },
     "execution_count": 2,
     "metadata": {},
     "output_type": "execute_result"
    }
   ],
   "source": [
    "data = pd.read_csv('features_extracted.csv')\n",
    "data.head()"
   ]
  },
  {
   "cell_type": "code",
   "execution_count": 3,
   "metadata": {},
   "outputs": [
    {
     "data": {
      "text/plain": [
       "(1000, 28)"
      ]
     },
     "execution_count": 3,
     "metadata": {},
     "output_type": "execute_result"
    }
   ],
   "source": [
    "data.shape"
   ]
  },
  {
   "cell_type": "code",
   "execution_count": 4,
   "metadata": {},
   "outputs": [],
   "source": [
    "# Dropping unneccesary columns\n",
    "data = data.drop(['filename'],axis=1)"
   ]
  },
  {
   "cell_type": "markdown",
   "metadata": {},
   "source": [
    "## Encoding the Labels :"
   ]
  },
  {
   "cell_type": "code",
   "execution_count": 5,
   "metadata": {},
   "outputs": [
    {
     "data": {
      "text/plain": [
       "array(['blues', 'classical', 'country', 'disco', 'hiphop', 'jazz',\n",
       "       'metal', 'pop', 'reggae', 'rock'], dtype=object)"
      ]
     },
     "execution_count": 5,
     "metadata": {},
     "output_type": "execute_result"
    }
   ],
   "source": [
    "data['label'].unique()"
   ]
  },
  {
   "cell_type": "code",
   "execution_count": 6,
   "metadata": {},
   "outputs": [],
   "source": [
    "genre_list = data.iloc[:, -1]\n",
    "encoder = LabelEncoder()\n",
    "y = encoder.fit_transform(genre_list)"
   ]
  },
  {
   "cell_type": "code",
   "execution_count": 7,
   "metadata": {},
   "outputs": [
    {
     "data": {
      "text/plain": [
       "(1000,)"
      ]
     },
     "execution_count": 7,
     "metadata": {},
     "output_type": "execute_result"
    }
   ],
   "source": [
    "y.shape"
   ]
  },
  {
   "cell_type": "markdown",
   "metadata": {},
   "source": [
    "## Scaling the Feature columns :"
   ]
  },
  {
   "cell_type": "code",
   "execution_count": 8,
   "metadata": {},
   "outputs": [],
   "source": [
    "scaler = StandardScaler()\n",
    "X = scaler.fit_transform(np.array(data.iloc[:, :-1], dtype = float))"
   ]
  },
  {
   "cell_type": "code",
   "execution_count": 9,
   "metadata": {},
   "outputs": [
    {
     "data": {
      "text/plain": [
       "array([[-0.35174834, -0.01072298, -0.58330334, ..., -0.23719143,\n",
       "         0.00761126,  0.60349826],\n",
       "       [-0.46146553, -0.53326615, -0.93906628, ..., -0.05518968,\n",
       "         0.54382356,  0.42403532],\n",
       "       [-0.18448389,  0.68001209, -0.90741936, ..., -0.60070699,\n",
       "        -0.29428465, -0.29511277],\n",
       "       ...,\n",
       "       [ 0.65431771, -0.75110651, -0.17418012, ...,  0.76028058,\n",
       "        -2.73474442, -0.26387435],\n",
       "       [-0.19983742, -0.71651358, -1.12235633, ...,  0.27176638,\n",
       "        -0.7231119 , -0.64936227],\n",
       "       [-0.25070235, -1.16473892, -0.82782084, ..., -0.12506876,\n",
       "         0.08171812,  0.58748956]])"
      ]
     },
     "execution_count": 9,
     "metadata": {},
     "output_type": "execute_result"
    }
   ],
   "source": [
    "X"
   ]
  },
  {
   "cell_type": "code",
   "execution_count": 10,
   "metadata": {},
   "outputs": [
    {
     "data": {
      "text/plain": [
       "(1000, 26)"
      ]
     },
     "execution_count": 10,
     "metadata": {},
     "output_type": "execute_result"
    }
   ],
   "source": [
    "X.shape"
   ]
  },
  {
   "cell_type": "markdown",
   "metadata": {},
   "source": [
    "## Dividing data into train and test set"
   ]
  },
  {
   "cell_type": "code",
   "execution_count": 11,
   "metadata": {},
   "outputs": [],
   "source": [
    "X_train, X_test, y_train, y_test = train_test_split(X, y, test_size=0.2)"
   ]
  },
  {
   "cell_type": "code",
   "execution_count": 12,
   "metadata": {},
   "outputs": [
    {
     "data": {
      "text/plain": [
       "(800, 800)"
      ]
     },
     "execution_count": 12,
     "metadata": {},
     "output_type": "execute_result"
    }
   ],
   "source": [
    "len(X_train) , len(y_train)"
   ]
  },
  {
   "cell_type": "code",
   "execution_count": 13,
   "metadata": {},
   "outputs": [
    {
     "data": {
      "text/plain": [
       "(200, 200)"
      ]
     },
     "execution_count": 13,
     "metadata": {},
     "output_type": "execute_result"
    }
   ],
   "source": [
    "len(X_test) , len(y_test) "
   ]
  },
  {
   "cell_type": "code",
   "execution_count": 14,
   "metadata": {},
   "outputs": [
    {
     "data": {
      "text/plain": [
       "array([ 0.59543006,  1.83290355,  0.1577889 ,  0.03637268,  0.29509058,\n",
       "        0.34231193,  1.24381258, -0.0208961 , -0.71738337,  0.7983057 ,\n",
       "       -1.23240187,  1.31563425, -1.29818965,  1.66770306, -0.53255624,\n",
       "        0.90156844, -0.42415087,  1.07287007, -0.98735312,  1.5046786 ,\n",
       "       -0.40287788,  1.77271017, -0.01823881,  0.71075431, -0.3031872 ,\n",
       "        0.90614815])"
      ]
     },
     "execution_count": 14,
     "metadata": {},
     "output_type": "execute_result"
    }
   ],
   "source": [
    "X_train[10]"
   ]
  },
  {
   "cell_type": "markdown",
   "metadata": {},
   "source": [
    "# Classification with Keras :\n",
    "\n",
    "## Building our Network :"
   ]
  },
  {
   "cell_type": "code",
   "execution_count": 15,
   "metadata": {},
   "outputs": [
    {
     "name": "stdout",
     "output_type": "stream",
     "text": [
      "Model: \"sequential_1\"\n",
      "_________________________________________________________________\n",
      "Layer (type)                 Output Shape              Param #   \n",
      "=================================================================\n",
      "dense_1 (Dense)              (None, 256)               6912      \n",
      "_________________________________________________________________\n",
      "dense_2 (Dense)              (None, 128)               32896     \n",
      "_________________________________________________________________\n",
      "dense_3 (Dense)              (None, 64)                8256      \n",
      "_________________________________________________________________\n",
      "dense_4 (Dense)              (None, 10)                650       \n",
      "=================================================================\n",
      "Total params: 48,714\n",
      "Trainable params: 48,714\n",
      "Non-trainable params: 0\n",
      "_________________________________________________________________\n"
     ]
    }
   ],
   "source": [
    "from keras import models\n",
    "from keras import layers\n",
    "\n",
    "model = models.Sequential()\n",
    "\n",
    "model.add(layers.Dense(256, activation='relu', input_shape=(X_train.shape[1],)))\n",
    "\n",
    "model.add(layers.Dense(128, activation='relu'))\n",
    "\n",
    "model.add(layers.Dense(64, activation='relu'))\n",
    "\n",
    "model.add(layers.Dense(10, activation='softmax'))\n",
    "\n",
    "model.summary()"
   ]
  },
  {
   "cell_type": "code",
   "execution_count": 24,
   "metadata": {},
   "outputs": [],
   "source": [
    "model.compile(optimizer='adam',\n",
    "              loss='sparse_categorical_crossentropy',\n",
    "              metrics=['accuracy'])"
   ]
  },
  {
   "cell_type": "code",
   "execution_count": 25,
   "metadata": {},
   "outputs": [
    {
     "name": "stdout",
     "output_type": "stream",
     "text": [
      "Epoch 1/20\n",
      "800/800 [==============================] - 0s 445us/step - loss: 0.4976 - accuracy: 0.8438\n",
      "Epoch 2/20\n",
      "800/800 [==============================] - 0s 45us/step - loss: 0.4433 - accuracy: 0.8637\n",
      "Epoch 3/20\n",
      "800/800 [==============================] - 0s 29us/step - loss: 0.4131 - accuracy: 0.8850\n",
      "Epoch 4/20\n",
      "800/800 [==============================] - 0s 26us/step - loss: 0.3839 - accuracy: 0.9062\n",
      "Epoch 5/20\n",
      "800/800 [==============================] - 0s 31us/step - loss: 0.3635 - accuracy: 0.9087\n",
      "Epoch 6/20\n",
      "800/800 [==============================] - 0s 32us/step - loss: 0.3402 - accuracy: 0.9300\n",
      "Epoch 7/20\n",
      "800/800 [==============================] - 0s 43us/step - loss: 0.3179 - accuracy: 0.9350\n",
      "Epoch 8/20\n",
      "800/800 [==============================] - 0s 33us/step - loss: 0.3094 - accuracy: 0.9300\n",
      "Epoch 9/20\n",
      "800/800 [==============================] - 0s 47us/step - loss: 0.2913 - accuracy: 0.9413\n",
      "Epoch 10/20\n",
      "800/800 [==============================] - 0s 37us/step - loss: 0.2831 - accuracy: 0.9438\n",
      "Epoch 11/20\n",
      "800/800 [==============================] - 0s 42us/step - loss: 0.2585 - accuracy: 0.9463\n",
      "Epoch 12/20\n",
      "800/800 [==============================] - 0s 44us/step - loss: 0.2432 - accuracy: 0.9600\n",
      "Epoch 13/20\n",
      "800/800 [==============================] - 0s 37us/step - loss: 0.2272 - accuracy: 0.9613\n",
      "Epoch 14/20\n",
      "800/800 [==============================] - 0s 36us/step - loss: 0.2133 - accuracy: 0.9650\n",
      "Epoch 15/20\n",
      "800/800 [==============================] - 0s 41us/step - loss: 0.2003 - accuracy: 0.9625\n",
      "Epoch 16/20\n",
      "800/800 [==============================] - 0s 43us/step - loss: 0.1871 - accuracy: 0.9712\n",
      "Epoch 17/20\n",
      "800/800 [==============================] - 0s 36us/step - loss: 0.1773 - accuracy: 0.9700\n",
      "Epoch 18/20\n",
      "800/800 [==============================] - 0s 41us/step - loss: 0.1624 - accuracy: 0.9737\n",
      "Epoch 19/20\n",
      "800/800 [==============================] - 0s 38us/step - loss: 0.1573 - accuracy: 0.9775\n",
      "Epoch 20/20\n",
      "800/800 [==============================] - 0s 38us/step - loss: 0.1479 - accuracy: 0.9787\n"
     ]
    }
   ],
   "source": [
    "history = model.fit(X_train,\n",
    "                    y_train,\n",
    "                    epochs=20,\n",
    "                    batch_size=128)\n",
    "                   "
   ]
  },
  {
   "cell_type": "code",
   "execution_count": 26,
   "metadata": {},
   "outputs": [
    {
     "name": "stdout",
     "output_type": "stream",
     "text": [
      "200/200 [==============================] - 0s 385us/step\n"
     ]
    }
   ],
   "source": [
    "test_loss, test_acc = model.evaluate(X_test,y_test)"
   ]
  },
  {
   "cell_type": "code",
   "execution_count": 27,
   "metadata": {},
   "outputs": [
    {
     "name": "stdout",
     "output_type": "stream",
     "text": [
      "test_acc:  0.6650000214576721\n"
     ]
    }
   ],
   "source": [
    "print('test_acc: ',test_acc)"
   ]
  },
  {
   "cell_type": "code",
   "execution_count": 23,
   "metadata": {},
   "outputs": [
    {
     "name": "stdout",
     "output_type": "stream",
     "text": [
      "test_loss: 1.254880313873291\n"
     ]
    }
   ],
   "source": [
    "print('test_loss:' , test_loss)"
   ]
  },
  {
   "cell_type": "markdown",
   "metadata": {},
   "source": [
    "Test accuracy is less than training data accuracy. This hints at Overfitting"
   ]
  },
  {
   "cell_type": "markdown",
   "metadata": {},
   "source": [
    "## Validating our approach :\n",
    "Let's set apart 200 samples in our training data to use as a validation set:"
   ]
  },
  {
   "cell_type": "code",
   "execution_count": 28,
   "metadata": {},
   "outputs": [],
   "source": [
    "x_val = X_train[:200]\n",
    "partial_x_train = X_train[200:]\n",
    "\n",
    "y_val = y_train[:200]\n",
    "partial_y_train = y_train[200:]"
   ]
  },
  {
   "cell_type": "code",
   "execution_count": 29,
   "metadata": {},
   "outputs": [
    {
     "data": {
      "text/plain": [
       "((200, 26), (600, 26))"
      ]
     },
     "execution_count": 29,
     "metadata": {},
     "output_type": "execute_result"
    }
   ],
   "source": [
    "x_val.shape  ,  partial_x_train.shape"
   ]
  },
  {
   "cell_type": "code",
   "execution_count": 30,
   "metadata": {},
   "outputs": [
    {
     "data": {
      "text/plain": [
       "((200,), (600,))"
      ]
     },
     "execution_count": 30,
     "metadata": {},
     "output_type": "execute_result"
    }
   ],
   "source": [
    "y_val.shape  ,  partial_y_train.shape"
   ]
  },
  {
   "cell_type": "markdown",
   "metadata": {},
   "source": [
    "Now let's train our network for 20 epochs:"
   ]
  },
  {
   "cell_type": "code",
   "execution_count": 47,
   "metadata": {},
   "outputs": [
    {
     "name": "stdout",
     "output_type": "stream",
     "text": [
      "Model: \"sequential_3\"\n",
      "_________________________________________________________________\n",
      "Layer (type)                 Output Shape              Param #   \n",
      "=================================================================\n",
      "dense_10 (Dense)             (None, 512)               13824     \n",
      "_________________________________________________________________\n",
      "dense_11 (Dense)             (None, 256)               131328    \n",
      "_________________________________________________________________\n",
      "dense_12 (Dense)             (None, 256)               65792     \n",
      "_________________________________________________________________\n",
      "dense_13 (Dense)             (None, 128)               32896     \n",
      "_________________________________________________________________\n",
      "dense_14 (Dense)             (None, 64)                8256      \n",
      "_________________________________________________________________\n",
      "dense_15 (Dense)             (None, 10)                650       \n",
      "=================================================================\n",
      "Total params: 252,746\n",
      "Trainable params: 252,746\n",
      "Non-trainable params: 0\n",
      "_________________________________________________________________\n"
     ]
    }
   ],
   "source": [
    "from keras import models\n",
    "from keras import layers\n",
    "\n",
    "model = models.Sequential()\n",
    "\n",
    "model.add(layers.Dense(512, activation='relu', input_shape=(X_train.shape[1],)))\n",
    "\n",
    "model.add(layers.Dense(256, activation='relu'))\n",
    "\n",
    "model.add(layers.Dense(128, activation='relu'))\n",
    "\n",
    "model.add(layers.Dense(64, activation='relu'))\n",
    "\n",
    "model.add(layers.Dense(10, activation='softmax'))\n",
    "\n",
    "model.summary()"
   ]
  },
  {
   "cell_type": "code",
   "execution_count": 54,
   "metadata": {},
   "outputs": [],
   "source": [
    "model.compile(optimizer='adam',\n",
    "              loss='sparse_categorical_crossentropy',\n",
    "              metrics=['accuracy'])"
   ]
  },
  {
   "cell_type": "code",
   "execution_count": 56,
   "metadata": {},
   "outputs": [
    {
     "name": "stdout",
     "output_type": "stream",
     "text": [
      "Train on 600 samples, validate on 200 samples\n",
      "Epoch 1/30\n",
      "600/600 [==============================] - 1s 895us/step - loss: 0.3987 - accuracy: 0.9300 - val_loss: 0.3073 - val_accuracy: 0.8650\n",
      "Epoch 2/30\n",
      "600/600 [==============================] - 0s 69us/step - loss: 0.2028 - accuracy: 0.9317 - val_loss: 1.3753 - val_accuracy: 0.6400\n",
      "Epoch 3/30\n",
      "600/600 [==============================] - 0s 79us/step - loss: 1.0328 - accuracy: 0.6983 - val_loss: 0.4578 - val_accuracy: 0.8550\n",
      "Epoch 4/30\n",
      "600/600 [==============================] - 0s 72us/step - loss: 0.2714 - accuracy: 0.9317 - val_loss: 0.4439 - val_accuracy: 0.8400\n",
      "Epoch 5/30\n",
      "600/600 [==============================] - 0s 82us/step - loss: 0.2829 - accuracy: 0.9067 - val_loss: 0.5746 - val_accuracy: 0.8150\n",
      "Epoch 6/30\n",
      "600/600 [==============================] - 0s 66us/step - loss: 0.3555 - accuracy: 0.8817 - val_loss: 0.4407 - val_accuracy: 0.8500\n",
      "Epoch 7/30\n",
      "600/600 [==============================] - 0s 78us/step - loss: 0.2274 - accuracy: 0.9250 - val_loss: 0.3363 - val_accuracy: 0.8700\n",
      "Epoch 8/30\n",
      "600/600 [==============================] - 0s 79us/step - loss: 0.1716 - accuracy: 0.9483 - val_loss: 0.4089 - val_accuracy: 0.8500\n",
      "Epoch 9/30\n",
      "600/600 [==============================] - 0s 83us/step - loss: 0.1913 - accuracy: 0.9517 - val_loss: 0.4216 - val_accuracy: 0.8550\n",
      "Epoch 10/30\n",
      "600/600 [==============================] - 0s 68us/step - loss: 0.1912 - accuracy: 0.9417 - val_loss: 0.3507 - val_accuracy: 0.8850\n",
      "Epoch 11/30\n",
      "600/600 [==============================] - 0s 77us/step - loss: 0.1430 - accuracy: 0.9633 - val_loss: 0.3100 - val_accuracy: 0.8900\n",
      "Epoch 12/30\n",
      "600/600 [==============================] - 0s 72us/step - loss: 0.1083 - accuracy: 0.9800 - val_loss: 0.3104 - val_accuracy: 0.8750\n",
      "Epoch 13/30\n",
      "600/600 [==============================] - 0s 79us/step - loss: 0.1007 - accuracy: 0.9783 - val_loss: 0.3176 - val_accuracy: 0.8850\n",
      "Epoch 14/30\n",
      "600/600 [==============================] - 0s 75us/step - loss: 0.0993 - accuracy: 0.9767 - val_loss: 0.3218 - val_accuracy: 0.8850\n",
      "Epoch 15/30\n",
      "600/600 [==============================] - 0s 77us/step - loss: 0.0982 - accuracy: 0.9800 - val_loss: 0.3221 - val_accuracy: 0.8750\n",
      "Epoch 16/30\n",
      "600/600 [==============================] - 0s 67us/step - loss: 0.0893 - accuracy: 0.9867 - val_loss: 0.3130 - val_accuracy: 0.8950\n",
      "Epoch 17/30\n",
      "600/600 [==============================] - 0s 86us/step - loss: 0.0771 - accuracy: 0.9883 - val_loss: 0.2997 - val_accuracy: 0.8900\n",
      "Epoch 18/30\n",
      "600/600 [==============================] - 0s 77us/step - loss: 0.0713 - accuracy: 0.9917 - val_loss: 0.3006 - val_accuracy: 0.8900\n",
      "Epoch 19/30\n",
      "600/600 [==============================] - 0s 80us/step - loss: 0.0727 - accuracy: 0.9917 - val_loss: 0.2944 - val_accuracy: 0.8950\n",
      "Epoch 20/30\n",
      "600/600 [==============================] - 0s 79us/step - loss: 0.0679 - accuracy: 0.9900 - val_loss: 0.2787 - val_accuracy: 0.8950\n",
      "Epoch 21/30\n",
      "600/600 [==============================] - 0s 77us/step - loss: 0.0574 - accuracy: 0.9933 - val_loss: 0.2714 - val_accuracy: 0.8850\n",
      "Epoch 22/30\n",
      "600/600 [==============================] - 0s 82us/step - loss: 0.0509 - accuracy: 0.9967 - val_loss: 0.2685 - val_accuracy: 0.8950\n",
      "Epoch 23/30\n",
      "600/600 [==============================] - 0s 68us/step - loss: 0.0479 - accuracy: 0.9950 - val_loss: 0.2647 - val_accuracy: 0.8900\n",
      "Epoch 24/30\n",
      "600/600 [==============================] - 0s 76us/step - loss: 0.0455 - accuracy: 0.9967 - val_loss: 0.2598 - val_accuracy: 0.9100\n",
      "Epoch 25/30\n",
      "600/600 [==============================] - 0s 82us/step - loss: 0.0439 - accuracy: 0.9983 - val_loss: 0.2510 - val_accuracy: 0.9050\n",
      "Epoch 26/30\n",
      "600/600 [==============================] - 0s 63us/step - loss: 0.0414 - accuracy: 0.9983 - val_loss: 0.2412 - val_accuracy: 0.9050\n",
      "Epoch 27/30\n",
      "600/600 [==============================] - 0s 64us/step - loss: 0.0375 - accuracy: 0.9983 - val_loss: 0.2390 - val_accuracy: 0.9050\n",
      "Epoch 28/30\n",
      "600/600 [==============================] - 0s 75us/step - loss: 0.0350 - accuracy: 0.9983 - val_loss: 0.2440 - val_accuracy: 0.8850\n",
      "Epoch 29/30\n",
      "600/600 [==============================] - 0s 67us/step - loss: 0.0338 - accuracy: 0.9983 - val_loss: 0.2530 - val_accuracy: 0.8750\n",
      "Epoch 30/30\n",
      "600/600 [==============================] - 0s 76us/step - loss: 0.0330 - accuracy: 0.9983 - val_loss: 0.2580 - val_accuracy: 0.8700\n",
      "200/200 [==============================] - 0s 103us/step\n"
     ]
    }
   ],
   "source": [
    "model.fit(partial_x_train,\n",
    "          partial_y_train,\n",
    "          epochs=30,\n",
    "          batch_size=512,\n",
    "          validation_data=(x_val, y_val))\n",
    "\n",
    "results = model.evaluate(X_test, y_test)"
   ]
  },
  {
   "cell_type": "code",
   "execution_count": 57,
   "metadata": {},
   "outputs": [
    {
     "data": {
      "text/plain": [
       "[1.7889095988869668, 0.6600000262260437]"
      ]
     },
     "execution_count": 57,
     "metadata": {},
     "output_type": "execute_result"
    }
   ],
   "source": [
    "results"
   ]
  },
  {
   "cell_type": "code",
   "execution_count": 62,
   "metadata": {},
   "outputs": [
    {
     "name": "stdout",
     "output_type": "stream",
     "text": [
      "Test loss: 1.7889095988869668\n",
      "Test accuracy: 0.6600000262260437\n"
     ]
    }
   ],
   "source": [
    "print('Test loss:', results[0])\n",
    "print('Test accuracy:', results[1])"
   ]
  },
  {
   "cell_type": "code",
   "execution_count": null,
   "metadata": {},
   "outputs": [],
   "source": []
  },
  {
   "cell_type": "markdown",
   "metadata": {},
   "source": [
    "## Predictions on Test Data :"
   ]
  },
  {
   "cell_type": "code",
   "execution_count": 63,
   "metadata": {},
   "outputs": [],
   "source": [
    "predictions = model.predict(X_test)"
   ]
  },
  {
   "cell_type": "code",
   "execution_count": 64,
   "metadata": {},
   "outputs": [
    {
     "data": {
      "text/plain": [
       "(10,)"
      ]
     },
     "execution_count": 64,
     "metadata": {},
     "output_type": "execute_result"
    }
   ],
   "source": [
    "predictions[0].shape"
   ]
  },
  {
   "cell_type": "code",
   "execution_count": 65,
   "metadata": {},
   "outputs": [
    {
     "data": {
      "text/plain": [
       "array([1.1864580e-06, 5.9500530e-06, 2.8579042e-04, 3.9869553e-01,\n",
       "       7.5398828e-04, 5.0895906e-05, 2.7708689e-04, 6.8056193e-05,\n",
       "       7.2742337e-06, 5.9985429e-01], dtype=float32)"
      ]
     },
     "execution_count": 65,
     "metadata": {},
     "output_type": "execute_result"
    }
   ],
   "source": [
    "predictions[0]"
   ]
  },
  {
   "cell_type": "code",
   "execution_count": 67,
   "metadata": {},
   "outputs": [
    {
     "data": {
      "text/plain": [
       "1.0"
      ]
     },
     "execution_count": 67,
     "metadata": {},
     "output_type": "execute_result"
    }
   ],
   "source": [
    "pred = np.sum(predictions[0])\n",
    "pred"
   ]
  },
  {
   "cell_type": "code",
   "execution_count": 68,
   "metadata": {},
   "outputs": [
    {
     "data": {
      "text/plain": [
       "9"
      ]
     },
     "execution_count": 68,
     "metadata": {},
     "output_type": "execute_result"
    }
   ],
   "source": [
    "pred_argmax = np.argmax(predictions[0])\n",
    "pred_argmax"
   ]
  },
  {
   "cell_type": "code",
   "execution_count": 69,
   "metadata": {},
   "outputs": [
    {
     "data": {
      "text/plain": [
       "array([9, 4, 0, 8, 4, 2, 2, 7, 7, 3, 4, 4, 2, 6, 7, 9, 4, 5, 7, 5, 5, 4,\n",
       "       2, 1, 6, 9, 6, 6, 0, 3, 5, 4, 0, 4, 4, 7, 8, 2, 3, 7, 6, 8, 1, 9,\n",
       "       7, 4, 3, 3, 7, 4, 4, 1, 7, 4, 9, 2, 1, 8, 2, 4, 4, 1, 8, 8, 2, 7,\n",
       "       1, 6, 2, 6, 8, 4, 0, 8, 2, 7, 3, 4, 6, 3, 8, 7, 0, 6, 4, 1, 7, 8,\n",
       "       3, 7, 4, 3, 9, 1, 3, 6, 5, 6, 6, 9, 2, 4, 4, 8, 6, 5, 5, 8, 1, 4,\n",
       "       9, 9, 4, 4, 1, 9, 4, 9, 9, 4, 8, 7, 8, 4, 7, 3, 0, 8, 8, 2, 6, 2,\n",
       "       1, 6, 3, 0, 7, 7, 5, 8, 1, 4, 5, 0, 2, 7, 3, 7, 2, 0, 7, 8, 4, 3,\n",
       "       6, 0, 1, 0, 9, 1, 1, 6, 5, 7, 0, 9, 8, 3, 2, 6, 1, 6, 3, 3, 8, 5,\n",
       "       3, 3, 5, 1, 1, 5, 6, 3, 3, 9, 9, 7, 4, 3, 8, 2, 6, 1, 6, 5, 5, 0,\n",
       "       3, 8], dtype=int64)"
      ]
     },
     "execution_count": 69,
     "metadata": {},
     "output_type": "execute_result"
    }
   ],
   "source": [
    "y_predictions = np.argmax(predictions,axis=1)\n",
    "y_predictions"
   ]
  },
  {
   "cell_type": "code",
   "execution_count": null,
   "metadata": {},
   "outputs": [],
   "source": []
  },
  {
   "cell_type": "markdown",
   "metadata": {},
   "source": [
    "##  Evaluation metrics :"
   ]
  },
  {
   "cell_type": "code",
   "execution_count": 70,
   "metadata": {},
   "outputs": [
    {
     "name": "stdout",
     "output_type": "stream",
     "text": [
      "Classification_report\n",
      "              precision    recall  f1-score   support\n",
      "\n",
      "           0       0.62      0.44      0.52        18\n",
      "           1       0.89      1.00      0.94        17\n",
      "           2       0.53      0.53      0.53        17\n",
      "           3       0.43      0.50      0.47        20\n",
      "           4       0.57      0.68      0.62        25\n",
      "           5       0.80      0.75      0.77        16\n",
      "           6       0.86      0.76      0.81        25\n",
      "           7       0.70      0.76      0.73        21\n",
      "           8       0.73      0.57      0.64        28\n",
      "           9       0.50      0.62      0.55        13\n",
      "\n",
      "    accuracy                           0.66       200\n",
      "   macro avg       0.66      0.66      0.66       200\n",
      "weighted avg       0.67      0.66      0.66       200\n",
      "\n"
     ]
    }
   ],
   "source": [
    "from sklearn.metrics import classification_report, confusion_matrix\n",
    "\n",
    "print('Classification_report')\n",
    "print(classification_report(y_test , np.argmax(predictions,axis=1)))"
   ]
  },
  {
   "cell_type": "code",
   "execution_count": 71,
   "metadata": {},
   "outputs": [
    {
     "name": "stdout",
     "output_type": "stream",
     "text": [
      "[[ 8  0  5  1  0  2  0  0  1  1]\n",
      " [ 0 17  0  0  0  0  0  0  0  0]\n",
      " [ 1  0  9  1  2  0  0  2  1  1]\n",
      " [ 0  1  0 10  2  0  2  1  0  4]\n",
      " [ 0  0  3  1 17  0  1  1  0  2]\n",
      " [ 0  1  0  2  1 12  0  0  0  0]\n",
      " [ 1  0  0  2  2  0 19  0  1  0]\n",
      " [ 1  0  0  1  2  0  0 16  1  0]\n",
      " [ 1  0  0  3  4  1  0  3 16  0]\n",
      " [ 1  0  0  2  0  0  0  0  2  8]]\n"
     ]
    }
   ],
   "source": [
    "#Get the confusion matrix\n",
    "\n",
    "cf_matrix = confusion_matrix(y_test, np.argmax(predictions,axis=1))\n",
    "print(cf_matrix)"
   ]
  },
  {
   "cell_type": "code",
   "execution_count": 72,
   "metadata": {},
   "outputs": [
    {
     "data": {
      "text/plain": [
       "<matplotlib.axes._subplots.AxesSubplot at 0x163e6edf198>"
      ]
     },
     "execution_count": 72,
     "metadata": {},
     "output_type": "execute_result"
    },
    {
     "data": {
      "image/png": "[encoded data removed]",
      "text/plain": [
       "<Figure size 432x288 with 2 Axes>"
      ]
     },
     "metadata": {
      "needs_background": "light"
     },
     "output_type": "display_data"
    }
   ],
   "source": [
    "import seaborn as sns\n",
    "sns.heatmap(cf_matrix, annot=True)"
   ]
  },
  {
   "cell_type": "code",
   "execution_count": 73,
   "metadata": {},
   "outputs": [
    {
     "data": {
      "text/plain": [
       "<matplotlib.axes._subplots.AxesSubplot at 0x163e6fd2048>"
      ]
     },
     "execution_count": 73,
     "metadata": {},
     "output_type": "execute_result"
    },
    {
     "data": {
      "image/png": "[encoded data removed]",
      "text/plain": [
       "<Figure size 432x288 with 2 Axes>"
      ]
     },
     "metadata": {
      "needs_background": "light"
     },
     "output_type": "display_data"
    }
   ],
   "source": [
    "sns.heatmap(cf_matrix/np.sum(cf_matrix), annot=True, fmt='.2%', cmap='Blues')"
   ]
  },
  {
   "cell_type": "code",
   "execution_count": null,
   "metadata": {},
   "outputs": [],
   "source": []
  },
  {
   "cell_type": "markdown",
   "metadata": {},
   "source": [
    "({0 :'blues', 1 :'classical', 2 :'country', 3 :'disco', 4 :'hiphop',\n",
    "                     5 :'jazz', 6 :'metal', 7 :'pop', 8 :'reggae', 9 :'rock'})"
   ]
  },
  {
   "cell_type": "code",
   "execution_count": null,
   "metadata": {},
   "outputs": [],
   "source": []
  },
  {
   "cell_type": "code",
   "execution_count": null,
   "metadata": {},
   "outputs": [],
   "source": []
  },
  {
   "cell_type": "code",
   "execution_count": null,
   "metadata": {},
   "outputs": [],
   "source": []
  },
  {
   "cell_type": "code",
   "execution_count": null,
   "metadata": {},
   "outputs": [],
   "source": []
  }
 ],
 "metadata": {
  "kernelspec": {
   "display_name": "Python 3",
   "language": "python",
   "name": "python3"
  },
  "language_info": {
   "codemirror_mode": {
    "name": "ipython",
    "version": 3
   },
   "file_extension": ".py",
   "mimetype": "text/x-python",
   "name": "python",
   "nbconvert_exporter": "python",
   "pygments_lexer": "ipython3",
   "version": "3.7.3"
  }
 },
 "nbformat": 4,
 "nbformat_minor": 2
}
